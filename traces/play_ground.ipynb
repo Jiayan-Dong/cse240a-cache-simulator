{
 "cells": [
  {
   "cell_type": "code",
   "execution_count": 16,
   "metadata": {},
   "outputs": [],
   "source": [
    "import pandas as pd\n",
    "import matplotlib \n",
    "import numpy as np\n",
    "np.set_printoptions(formatter={'int':hex})"
   ]
  },
  {
   "cell_type": "code",
   "execution_count": 17,
   "metadata": {},
   "outputs": [],
   "source": [
    "# df = pd.read_csv(\"l2_access\", sep=\" \", header=None)"
   ]
  },
  {
   "cell_type": "code",
   "execution_count": 18,
   "metadata": {},
   "outputs": [],
   "source": [
    "# ddf = df[0].reset_index(drop=True).to_frame().reset_index()"
   ]
  },
  {
   "cell_type": "code",
   "execution_count": 19,
   "metadata": {},
   "outputs": [],
   "source": [
    "# ddf[100:200].plot(kind='scatter', x='index', y=0)"
   ]
  },
  {
   "cell_type": "code",
   "execution_count": 20,
   "metadata": {},
   "outputs": [],
   "source": [
    "df = pd.read_csv(\"mat_20M\", sep=\" \", header=None)"
   ]
  },
  {
   "cell_type": "code",
   "execution_count": 21,
   "metadata": {},
   "outputs": [],
   "source": [
    "ddf = df[df[1] == \"D\"][0].apply(lambda x: int(x,16) >> 7).reset_index(drop=True).to_frame().reset_index()"
   ]
  },
  {
   "cell_type": "code",
   "execution_count": 22,
   "metadata": {},
   "outputs": [
    {
     "data": {
      "text/html": [
       "<div>\n",
       "<style scoped>\n",
       "    .dataframe tbody tr th:only-of-type {\n",
       "        vertical-align: middle;\n",
       "    }\n",
       "\n",
       "    .dataframe tbody tr th {\n",
       "        vertical-align: top;\n",
       "    }\n",
       "\n",
       "    .dataframe thead th {\n",
       "        text-align: right;\n",
       "    }\n",
       "</style>\n",
       "<table border=\"1\" class=\"dataframe\">\n",
       "  <thead>\n",
       "    <tr style=\"text-align: right;\">\n",
       "      <th></th>\n",
       "      <th>index</th>\n",
       "      <th>0</th>\n",
       "    </tr>\n",
       "  </thead>\n",
       "  <tbody>\n",
       "    <tr>\n",
       "      <th>30900</th>\n",
       "      <td>30900</td>\n",
       "      <td>2910</td>\n",
       "    </tr>\n",
       "    <tr>\n",
       "      <th>30901</th>\n",
       "      <td>30901</td>\n",
       "      <td>3833</td>\n",
       "    </tr>\n",
       "    <tr>\n",
       "      <th>30902</th>\n",
       "      <td>30902</td>\n",
       "      <td>7</td>\n",
       "    </tr>\n",
       "    <tr>\n",
       "      <th>30903</th>\n",
       "      <td>30903</td>\n",
       "      <td>2921</td>\n",
       "    </tr>\n",
       "    <tr>\n",
       "      <th>30904</th>\n",
       "      <td>30904</td>\n",
       "      <td>3833</td>\n",
       "    </tr>\n",
       "    <tr>\n",
       "      <th>30905</th>\n",
       "      <td>30905</td>\n",
       "      <td>7</td>\n",
       "    </tr>\n",
       "    <tr>\n",
       "      <th>30906</th>\n",
       "      <td>30906</td>\n",
       "      <td>2932</td>\n",
       "    </tr>\n",
       "    <tr>\n",
       "      <th>30907</th>\n",
       "      <td>30907</td>\n",
       "      <td>3833</td>\n",
       "    </tr>\n",
       "    <tr>\n",
       "      <th>30908</th>\n",
       "      <td>30908</td>\n",
       "      <td>7</td>\n",
       "    </tr>\n",
       "    <tr>\n",
       "      <th>30909</th>\n",
       "      <td>30909</td>\n",
       "      <td>2943</td>\n",
       "    </tr>\n",
       "    <tr>\n",
       "      <th>30910</th>\n",
       "      <td>30910</td>\n",
       "      <td>3833</td>\n",
       "    </tr>\n",
       "    <tr>\n",
       "      <th>30911</th>\n",
       "      <td>30911</td>\n",
       "      <td>7</td>\n",
       "    </tr>\n",
       "    <tr>\n",
       "      <th>30912</th>\n",
       "      <td>30912</td>\n",
       "      <td>2954</td>\n",
       "    </tr>\n",
       "    <tr>\n",
       "      <th>30913</th>\n",
       "      <td>30913</td>\n",
       "      <td>3833</td>\n",
       "    </tr>\n",
       "    <tr>\n",
       "      <th>30914</th>\n",
       "      <td>30914</td>\n",
       "      <td>7</td>\n",
       "    </tr>\n",
       "    <tr>\n",
       "      <th>30915</th>\n",
       "      <td>30915</td>\n",
       "      <td>2965</td>\n",
       "    </tr>\n",
       "    <tr>\n",
       "      <th>30916</th>\n",
       "      <td>30916</td>\n",
       "      <td>3833</td>\n",
       "    </tr>\n",
       "    <tr>\n",
       "      <th>30917</th>\n",
       "      <td>30917</td>\n",
       "      <td>7</td>\n",
       "    </tr>\n",
       "    <tr>\n",
       "      <th>30918</th>\n",
       "      <td>30918</td>\n",
       "      <td>2976</td>\n",
       "    </tr>\n",
       "    <tr>\n",
       "      <th>30919</th>\n",
       "      <td>30919</td>\n",
       "      <td>3833</td>\n",
       "    </tr>\n",
       "  </tbody>\n",
       "</table>\n",
       "</div>"
      ],
      "text/plain": [
       "       index     0\n",
       "30900  30900  2910\n",
       "30901  30901  3833\n",
       "30902  30902     7\n",
       "30903  30903  2921\n",
       "30904  30904  3833\n",
       "30905  30905     7\n",
       "30906  30906  2932\n",
       "30907  30907  3833\n",
       "30908  30908     7\n",
       "30909  30909  2943\n",
       "30910  30910  3833\n",
       "30911  30911     7\n",
       "30912  30912  2954\n",
       "30913  30913  3833\n",
       "30914  30914     7\n",
       "30915  30915  2965\n",
       "30916  30916  3833\n",
       "30917  30917     7\n",
       "30918  30918  2976\n",
       "30919  30919  3833"
      ]
     },
     "execution_count": 22,
     "metadata": {},
     "output_type": "execute_result"
    }
   ],
   "source": [
    "ddf[30900:30920]"
   ]
  },
  {
   "cell_type": "code",
   "execution_count": 45,
   "metadata": {},
   "outputs": [
    {
     "data": {
      "text/plain": [
       "<Axes: xlabel='index', ylabel='0'>"
      ]
     },
     "execution_count": 45,
     "metadata": {},
     "output_type": "execute_result"
    },
    {
     "data": {
      "image/png": "[encoded data removed]",
      "text/plain": [
       "<Figure size 640x480 with 1 Axes>"
      ]
     },
     "metadata": {},
     "output_type": "display_data"
    }
   ],
   "source": [
    "ddf[(ddf[0] < 5000) & (ddf[0] > 500)][:350].plot.scatter('index', 0, 0.1)"
   ]
  },
  {
   "cell_type": "code",
   "execution_count": 49,
   "metadata": {},
   "outputs": [
    {
     "data": {
      "text/plain": [
       "176"
      ]
     },
     "execution_count": 49,
     "metadata": {},
     "output_type": "execute_result"
    }
   ],
   "source": [
    "len(ddf[(ddf[0] < 5000) & (ddf[0] > 500)][:350][0].unique())"
   ]
  },
  {
   "cell_type": "code",
   "execution_count": 46,
   "metadata": {},
   "outputs": [
    {
     "data": {
      "text/plain": [
       "array([0xef9, 0x77b, 0x786, 0x791, 0x79c, 0x7a7, 0x7b2, 0x7bd, 0x7c8,\n",
       "       0x7d3, 0x7de, 0x7e8, 0x7f3, 0x7fe, 0x809, 0x814, 0x81f, 0x82a,\n",
       "       0x835, 0x840, 0x84b, 0x856, 0x861, 0x86c, 0x877, 0x882, 0x88d,\n",
       "       0x897, 0x8a2, 0x8ad, 0x8b8, 0x8c3, 0x8ce, 0x8d9, 0x8e4, 0x8ef,\n",
       "       0x8fa, 0x905, 0x910, 0x91b, 0x926, 0x931, 0x93c, 0x946, 0x951,\n",
       "       0x95c, 0x967, 0x972, 0x97d, 0x988, 0x993, 0x99e, 0x9a9, 0x9b4,\n",
       "       0x9bf, 0x9ca, 0x9d5, 0x9e0, 0x9eb, 0x9f5, 0xa00, 0xa0b, 0xa16,\n",
       "       0xa21, 0xa2c, 0xa37, 0xa42, 0xa4d, 0xa58, 0xa63, 0xa6e, 0xa79,\n",
       "       0xa84, 0xa8f, 0xa9a, 0xaa4, 0xaaf, 0xaba, 0xac5, 0xad0, 0xadb,\n",
       "       0xae6, 0xaf1, 0xafc, 0xb07, 0xb12, 0xb1d, 0xb28, 0xb33, 0xb3e,\n",
       "       0xb49, 0xb53, 0xb5e, 0xb69, 0xb74, 0xb7f, 0xb8a, 0xb95, 0xba0,\n",
       "       0xbab, 0xbb6, 0xbc1, 0xbcc, 0xbd7, 0xbe2, 0xbed, 0xbf8, 0xc02,\n",
       "       0xc0d, 0xc18, 0xc23, 0xc2e, 0xc39, 0xc44, 0xc4f, 0xc5a, 0xc65,\n",
       "       0xc70, 0xc7b, 0xc86, 0xc91, 0xc9c, 0xca7, 0xcb1, 0xcbc, 0xcc7,\n",
       "       0xcd2, 0xcdd, 0xce8, 0xcf3, 0xcfe, 0xd09, 0xd14, 0xd1f, 0xd2a,\n",
       "       0xd35, 0xd40, 0xd4b, 0xd56, 0xd60, 0xd6b, 0xd76, 0xd81, 0xd8c,\n",
       "       0xd97, 0xda2, 0xdad, 0xdb8, 0xdc3, 0xdce, 0xdd9, 0xde4, 0xdef,\n",
       "       0xdfa, 0xe05, 0xe0f, 0xe1a, 0xe25, 0xe30, 0xe3b, 0xe46, 0xe51,\n",
       "       0xe5c, 0xe67, 0xe72, 0xe7d, 0xe88, 0xe93, 0xe9e, 0xea9, 0xeb4,\n",
       "       0xebe, 0xec9, 0xed4, 0xedf, 0xeea])"
      ]
     },
     "execution_count": 46,
     "metadata": {},
     "output_type": "execute_result"
    }
   ],
   "source": [
    "ddf[(ddf[0] < 5000) & (ddf[0] > 500)][:350][0].unique()"
   ]
  },
  {
   "cell_type": "code",
   "execution_count": 48,
   "metadata": {},
   "outputs": [
    {
     "data": {
      "text/plain": [
       "array([ True,  True,  True,  True,  True,  True,  True,  True,  True,\n",
       "        True,  True, False,  True,  True,  True,  True,  True,  True,\n",
       "        True,  True,  True,  True,  True,  True,  True,  True,  True,\n",
       "       False,  True,  True,  True,  True,  True,  True,  True,  True,\n",
       "        True,  True,  True,  True,  True,  True,  True, False,  True,\n",
       "        True,  True,  True,  True,  True,  True,  True,  True,  True,\n",
       "        True,  True,  True,  True,  True, False,  True,  True,  True,\n",
       "        True,  True,  True,  True,  True,  True,  True,  True,  True,\n",
       "        True,  True,  True, False,  True,  True,  True,  True,  True,\n",
       "        True,  True,  True,  True,  True,  True,  True,  True,  True,\n",
       "        True, False,  True,  True,  True,  True,  True,  True,  True,\n",
       "        True,  True,  True,  True,  True,  True,  True,  True, False,\n",
       "        True,  True,  True,  True,  True,  True,  True,  True,  True,\n",
       "        True,  True,  True,  True,  True,  True, False,  True,  True,\n",
       "        True,  True,  True,  True,  True,  True,  True,  True,  True,\n",
       "        True,  True,  True,  True, False,  True,  True,  True,  True,\n",
       "        True,  True,  True,  True,  True,  True,  True,  True,  True,\n",
       "        True,  True, False,  True,  True,  True,  True,  True,  True,\n",
       "        True,  True,  True,  True,  True,  True,  True,  True,  True,\n",
       "       False,  True,  True,  True,  True])"
      ]
     },
     "execution_count": 48,
     "metadata": {},
     "output_type": "execute_result"
    }
   ],
   "source": [
    "ddf[(ddf[0] < 5000) & (ddf[0] > 500)][350:700][0].unique() == ddf[(ddf[0] < 5000) & (ddf[0] > 500)][:350][0].unique()"
   ]
  }
 ],
 "metadata": {
  "kernelspec": {
   "display_name": "Python 3",
   "language": "python",
   "name": "python3"
  },
  "language_info": {
   "codemirror_mode": {
    "name": "ipython",
    "version": 3
   },
   "file_extension": ".py",
   "mimetype": "text/x-python",
   "name": "python",
   "nbconvert_exporter": "python",
   "pygments_lexer": "ipython3",
   "version": "3.8.10"
  }
 },
 "nbformat": 4,
 "nbformat_minor": 2
}
